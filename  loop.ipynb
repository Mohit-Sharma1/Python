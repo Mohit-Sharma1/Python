{
 "cells": [
  {
   "cell_type": "markdown",
   "metadata": {},
   "source": [
    "# For Loop\n",
    "\n",
    "Syntax:-\n",
    "\n",
    "my_iterable=[1,2,3]\n",
    "\n",
    "for item_name in my_iterable:\n",
    "\n",
    "print(item_name)\n"
   ]
  },
  {
   "cell_type": "code",
   "execution_count": 9,
   "metadata": {},
   "outputs": [
    {
     "name": "stdout",
     "output_type": "stream",
     "text": [
      "hello\n",
      "hello\n",
      "hello\n",
      "hello\n",
      "hello\n",
      "hello\n",
      "hello\n",
      "hello\n",
      "hello\n"
     ]
    }
   ],
   "source": [
    "mylist=[1,2,3,4,5,6,7,8,9]\n",
    "for jelly in mylist:\n",
    "    print(\"hello\")"
   ]
  },
  {
   "cell_type": "code",
   "execution_count": 26,
   "metadata": {},
   "outputs": [
    {
     "name": "stdout",
     "output_type": "stream",
     "text": [
      "1\n",
      "3\n",
      "6\n",
      "10\n",
      "15\n",
      "21\n",
      "28\n",
      "36\n",
      "45\n"
     ]
    }
   ],
   "source": [
    "list_sum=0\n",
    "for num in mylist:\n",
    "    list_sum=list_sum+num\n",
    "    print(list_sum)\n"
   ]
  },
  {
   "cell_type": "code",
   "execution_count": 33,
   "metadata": {},
   "outputs": [
    {
     "name": "stdout",
     "output_type": "stream",
     "text": [
      "Hello World\n",
      "Hello World\n",
      "Hello World\n",
      "Hello World\n",
      "Hello World\n",
      "Hello World\n",
      "Hello World\n",
      "Hello World\n",
      "Hello World\n",
      "Hello World\n",
      "Hello World\n"
     ]
    }
   ],
   "source": [
    "string_name=\"Hello World\"\n",
    "for letter in \"string name\":\n",
    "    print(\"Hello World\")"
   ]
  },
  {
   "cell_type": "code",
   "execution_count": 34,
   "metadata": {},
   "outputs": [
    {
     "name": "stdout",
     "output_type": "stream",
     "text": [
      "item\n",
      "item\n",
      "item\n"
     ]
    }
   ],
   "source": [
    "tup=(1,2,3)\n",
    "for item in tup:\n",
    "    print(\"item\")"
   ]
  },
  {
   "cell_type": "code",
   "execution_count": 8,
   "metadata": {},
   "outputs": [
    {
     "data": {
      "text/plain": [
       "4"
      ]
     },
     "execution_count": 8,
     "metadata": {},
     "output_type": "execute_result"
    }
   ],
   "source": [
    "mylist=[(1,2),(3,4),(5,6),(7,8)]\n",
    "#len is used to count numbers\n",
    "len(mylist)\n"
   ]
  },
  {
   "cell_type": "code",
   "execution_count": 9,
   "metadata": {},
   "outputs": [
    {
     "name": "stdout",
     "output_type": "stream",
     "text": [
      "list_variable\n"
     ]
    }
   ],
   "source": [
    "list_variable=[\"hello\",\"world\"]\n",
    "print(\"list_variable\")"
   ]
  },
  {
   "cell_type": "code",
   "execution_count": 10,
   "metadata": {},
   "outputs": [
    {
     "name": "stdout",
     "output_type": "stream",
     "text": [
      "Character\n",
      "Character\n",
      "Character\n",
      "Character\n",
      "Character\n",
      "Character\n",
      "Character\n",
      "Character\n",
      "Character\n",
      "Character\n",
      "Character\n"
     ]
    }
   ],
   "source": [
    "string_variable=\"Hello World\"\n",
    "for character in string_variable:\n",
    "    print(\"Character\")"
   ]
  },
  {
   "cell_type": "code",
   "execution_count": 20,
   "metadata": {},
   "outputs": [
    {
     "name": "stdout",
     "output_type": "stream",
     "text": [
      "Odd number:1\n",
      "num\n",
      "Odd number:3\n",
      "num\n",
      "Odd number:5\n",
      "num\n",
      "Odd number:7\n",
      "num\n",
      "Odd number:9\n"
     ]
    }
   ],
   "source": [
    "mylist=[1,2,3,4,5,6,7,8,9]\n",
    "for num in mylist:\n",
    "    #check for even and odd numbers\n",
    "    if num % 2 ==0:\n",
    "        print(\"num\")\n",
    "    else:\n",
    "        print(f\"Odd number:{num}\")"
   ]
  },
  {
   "cell_type": "markdown",
   "metadata": {},
   "source": [
    "# WHILE LOOP\n",
    "\n",
    "Syntax:-\n",
    "\n",
    "while some_boolean_condition:\n",
    "#do something\n",
    "else:\n",
    "#do something"
   ]
  },
  {
   "cell_type": "code",
   "execution_count": 46,
   "metadata": {},
   "outputs": [
    {
     "name": "stdout",
     "output_type": "stream",
     "text": [
      "The current value of x is 0\n",
      "The current value of x is 1\n",
      "The current value of x is 2\n",
      "The current value of x is 3\n",
      "The current value of x is 4\n",
      "x is not less than 5\n"
     ]
    }
   ],
   "source": [
    "x=0\n",
    "while x<5:\n",
    "    print(f\"The current value of x is {x}\")\n",
    "    x=x+1\n",
    "else:\n",
    "    print(\"x is not less than 5\")"
   ]
  },
  {
   "cell_type": "code",
   "execution_count": 11,
   "metadata": {},
   "outputs": [
    {
     "name": "stdout",
     "output_type": "stream",
     "text": [
      "The current value of x\n",
      "The current value of x\n",
      "The current value of x\n",
      "The current value of x\n",
      "The current value of x\n",
      "The current value of x\n",
      "The current value of x\n",
      "The current value of x\n",
      "The current value of x\n",
      "The current value of x\n",
      "The current value of x\n",
      "The current value of x\n",
      "The current value of x\n",
      "The current value of x\n",
      "The current value of x\n",
      "x is not less than 23\n"
     ]
    }
   ],
   "source": [
    "x=10\n",
    "while x<25:\n",
    "    print(\"The current value of x\")\n",
    "    x=x+1\n",
    "else:\n",
    "    print(\"x is not less than 23\")"
   ]
  },
  {
   "cell_type": "markdown",
   "metadata": {},
   "source": [
    "# Break,Continue,Pass\n",
    "\n",
    "We can use Break,Continue and pass statements in our loop to add aditional functionality for various cases.The three statements\n",
    "are defined by:-\n",
    "    Break:- Breaks out of the current closest enclosing loop\n",
    "    Continue:- Goes to the top of the closest loop\n",
    "    Pass:- Does anything at all\n",
    "        "
   ]
  },
  {
   "cell_type": "markdown",
   "metadata": {},
   "source": [
    "# Example 1"
   ]
  },
  {
   "cell_type": "code",
   "execution_count": 48,
   "metadata": {},
   "outputs": [
    {
     "name": "stdout",
     "output_type": "stream",
     "text": [
      "End of my script\n"
     ]
    }
   ],
   "source": [
    "x=[1,2,3]\n",
    "for item in x:\n",
    "    #Use of pass\n",
    "    pass\n",
    "print(\"End of my script\")"
   ]
  },
  {
   "cell_type": "markdown",
   "metadata": {},
   "source": [
    "# Example 2"
   ]
  },
  {
   "cell_type": "code",
   "execution_count": 17,
   "metadata": {},
   "outputs": [
    {
     "name": "stdout",
     "output_type": "stream",
     "text": [
      "var\n",
      "var\n",
      "hello\n"
     ]
    }
   ],
   "source": [
    "for var in \"String\":\n",
    "    if var==\"i\":\n",
    "        print(\"var\")\n",
    "else:\n",
    "    print(\"var\")\n",
    "    print(\"hello\")"
   ]
  },
  {
   "cell_type": "markdown",
   "metadata": {},
   "source": [
    "# Example 3"
   ]
  },
  {
   "cell_type": "code",
   "execution_count": 18,
   "metadata": {},
   "outputs": [
    {
     "name": "stdout",
     "output_type": "stream",
     "text": [
      "var\n",
      "hello\n"
     ]
    }
   ],
   "source": [
    "for var in \"string\":\n",
    "    if var==\"i\":\n",
    "        continue\n",
    "        print(\"var\")\n",
    "else:\n",
    "    print(\"var\")\n",
    "    print(\"hello\")"
   ]
  },
  {
   "cell_type": "code",
   "execution_count": null,
   "metadata": {},
   "outputs": [],
   "source": [
    "\n",
    "        "
   ]
  },
  {
   "cell_type": "code",
   "execution_count": null,
   "metadata": {},
   "outputs": [],
   "source": []
  }
 ],
 "metadata": {
  "kernelspec": {
   "display_name": "Python 3",
   "language": "python",
   "name": "python3"
  },
  "language_info": {
   "codemirror_mode": {
    "name": "ipython",
    "version": 3
   },
   "file_extension": ".py",
   "mimetype": "text/x-python",
   "name": "python",
   "nbconvert_exporter": "python",
   "pygments_lexer": "ipython3",
   "version": "3.6.5"
  }
 },
 "nbformat": 4,
 "nbformat_minor": 2
}
